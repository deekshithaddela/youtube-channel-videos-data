{
  "cells": [
    {
      "cell_type": "code",
      "metadata": {
        "id": "8mAAgSsLWuJE",
        "colab_type": "code",
        "colab": {}
      },
      "source": [
        "import json\n",
        "import requests\n",
        "import difflib\n",
        "import pandas as pd"
      ],
      "execution_count": 1,
      "outputs": []
    },
    {
      "cell_type": "code",
      "metadata": {
        "id": "nVSpQ08BDBtn",
        "colab_type": "code",
        "colab": {}
      },
      "source": [
        
        "api_key = \"\"\n",
        "\n",
        "def getData(url):\n",
        "    response = requests.get(url)\n",
        "    if response.status_code == 200:\n",
        "        return json.loads(response.text.encode('utf-8'))\n",
        "    print(json.loads(response.text.encode('utf-8')))"
      ],
      "execution_count": 3,
      "outputs": []
    },
    {
      "cell_type": "code",
      "metadata": {
        "id": "6aUy5oAVQ4_Z",
        "colab_type": "code",
        "colab": {
          "base_uri": "https://localhost:8080/",
          "height": 71
        },
        "outputId": "9d419e80-bd11-49f1-b309-7c48019c8f10",
        "tags": []
      },
      "source": [
        "name = \"TGG EXTRAS\"\n",
        "url = f\"https://www.googleapis.com/youtube/v3/search?key={api_key}&q={name}&part=snippet\"\n",
        "data = getData(url)\n",
        "print(\"user/channel name :\", name)"
      ],
      "execution_count": 4,
      "outputs": [
        {
          "output_type": "stream",
          "name": "stdout",
          "text": "{'error': {'code': 403, 'message': 'The request cannot be completed because you have exceeded your <a href=\"/youtube/v3/getting-started#quota\">quota</a>.', 'errors': [{'message': 'The request cannot be completed because you have exceeded your <a href=\"/youtube/v3/getting-started#quota\">quota</a>.', 'domain': 'youtube.quota', 'reason': 'quotaExceeded'}]}}\nuser/channel name : TGG EXTRAS\n"
        }
      ]
    },
    {
      "cell_type": "code",
      "metadata": {
        "id": "xgMJ7-maH30O",
        "colab_type": "code",
        "colab": {
          "base_uri": "https://localhost:8080/",
          "height": 231
        },
        "outputId": "0c45c2ea-0766-4ef4-aaf2-a2ab144c354f"
      },
      "source": [
        "channels = set()\n",
        "for channel in data['items']:\n",
        "    channels.add(\n",
        "        json.dumps(\n",
        "            {\n",
        "                \"channelId\" :channel.get('snippet',dict()).get('channelId',''),\n",
        "                \"channelTitle\" :channel.get('snippet',dict()).get('channelTitle','')\n",
        "            }\n",
        "        )\n",
        "    )\n",
        "channels = [json.loads(channel) for channel in channels]\n",
        "for channel in channels:\n",
        "    if difflib.SequenceMatcher(None, name.lower(), channel.get('channelTitle','').lower()).ratio()*100 >= 90:\n",
        "       channelId = channel.get('channelId','')\n",
        "print(\"channelId :\", channelId)"
      ],
      "execution_count": null,
      "outputs": [
        {
          "output_type": "error",
          "ename": "TypeError",
          "evalue": "ignored",
          "traceback": [
            "\u001b[0;31m---------------------------------------------------------------------------\u001b[0m",
            "\u001b[0;31mTypeError\u001b[0m                                 Traceback (most recent call last)",
            "\u001b[0;32m<ipython-input-70-5eb73ad8452c>\u001b[0m in \u001b[0;36m<module>\u001b[0;34m()\u001b[0m\n\u001b[1;32m      1\u001b[0m \u001b[0mchannels\u001b[0m \u001b[0;34m=\u001b[0m \u001b[0mset\u001b[0m\u001b[0;34m(\u001b[0m\u001b[0;34m)\u001b[0m\u001b[0;34m\u001b[0m\u001b[0;34m\u001b[0m\u001b[0m\n\u001b[0;32m----> 2\u001b[0;31m \u001b[0;32mfor\u001b[0m \u001b[0mchannel\u001b[0m \u001b[0;32min\u001b[0m \u001b[0mdata\u001b[0m\u001b[0;34m[\u001b[0m\u001b[0;34m'items'\u001b[0m\u001b[0;34m]\u001b[0m\u001b[0;34m:\u001b[0m\u001b[0;34m\u001b[0m\u001b[0;34m\u001b[0m\u001b[0m\n\u001b[0m\u001b[1;32m      3\u001b[0m     channels.add(\n\u001b[1;32m      4\u001b[0m         json.dumps(\n\u001b[1;32m      5\u001b[0m             {\n",
            "\u001b[0;31mTypeError\u001b[0m: 'NoneType' object is not subscriptable"
          ]
        }
      ]
    },
    {
      "cell_type": "code",
      "metadata": {
        "id": "p8lu7rMIIhBS",
        "colab_type": "code",
        "colab": {}
      },
      "source": [
        "curl = f\"https://www.googleapis.com/youtube/v3/channels?part=statistics&part=snippet&id={channelId}&key={api_key}\"\n",
        "cdata = getData(curl)"
      ],
      "execution_count": null,
      "outputs": []
    },
    {
      "cell_type": "code",
      "metadata": {
        "id": "QdH7zxNEs83o",
        "colab_type": "code",
        "colab": {
          "base_uri": "https://localhost:8080/",
          "height": 136
        },
        "outputId": "d3748101-a1f1-4014-a3ce-cd952fdc4876"
      },
      "source": [
        "channel = cdata['items'][0]\n",
        "ChannelInfo = {\n",
        "    \"channelId\" : channel.get('id',''),\n",
        "    \"channelTitle\" : channel.get('snippet',dict()).get('title',''),\n",
        "    \"channelDescription\" : channel.get('snippet',dict()).get('description',''),\n",
        "    \"publishedAt\" : channel.get('snippet',dict()).get('publishedAt',''),\n",
        "    \"subscriberCount\" : channel.get('statistics',dict()).get('subscriberCount',''),\n",
        "    \"videoCount\" : channel.get('statistics',dict()).get('videoCount',''),\n",
        "    \"viewCount\" : channel.get('statistics',dict()).get('viewCount',''),\n",
        "}\n",
        "print(\"ChannelInfov :\", ChannelInfo)"
      ],
      "execution_count": null,
      "outputs": [
        {
          "output_type": "execute_result",
          "data": {
            "text/plain": [
              "{'channelDescription': \"(FAMILY FRIENDLY YOUTUBER😁)\\n\\nTHIS CHANNEL DOESN'T HAVE ANY  CONTENT \\n\\n______________________________\\n\\n\\nEmail for Bussiness Enquiries  ► workwithTgg@gmail.com 😄\",\n",
              " 'channelId': 'UCwfrESIkoS37-0UPE3HILTg',\n",
              " 'channelTitle': 'TGG EXTRAS',\n",
              " 'publishedAt': '2018-02-13T17:43:03Z',\n",
              " 'subscriberCount': '82600',\n",
              " 'videoCount': '44',\n",
              " 'viewCount': '5886072'}"
            ]
          },
          "metadata": {
            "tags": []
          },
          "execution_count": 65
        }
      ]
    },
    {
      "cell_type": "code",
      "metadata": {
        "id": "f6dCcpbgHoDn",
        "colab_type": "code",
        "colab": {
          "base_uri": "https://localhost:8080/",
          "height": 268
        },
        "outputId": "2606da00-f852-47f7-e57f-d005f80fbbd5"
      },
      "source": [
        "cvdata = []\n",
        "nextPageToken = \"\"\n",
        "while True: \n",
        "    csurl = f\"https://www.googleapis.com/youtube/v3/search?channelId={channelId}{nextPageToken}&part=id&maxResults=30&key={api_key}\"\n",
        "    csdata = getData(csurl)\n",
        "    cvdata.append(csdata)\n",
        "    nextPageToken = f\"&pageToken={csdata.get('nextPageToken', '')}\"\n",
        "    if not nextPageToken:\n",
        "        break\n",
        "print(\"cvdata :\", len(cvdata))"
      ],
      "execution_count": null,
      "outputs": [
        {
          "output_type": "stream",
          "text": [
            "{'error': {'code': 403, 'message': 'The request cannot be completed because you have exceeded your <a href=\"/youtube/v3/getting-started#quota\">quota</a>.', 'errors': [{'message': 'The request cannot be completed because you have exceeded your <a href=\"/youtube/v3/getting-started#quota\">quota</a>.', 'domain': 'youtube.quota', 'reason': 'quotaExceeded'}]}}\n"
          ],
          "name": "stdout"
        },
        {
          "output_type": "error",
          "ename": "AttributeError",
          "evalue": "ignored",
          "traceback": [
            "\u001b[0;31m---------------------------------------------------------------------------\u001b[0m",
            "\u001b[0;31mAttributeError\u001b[0m                            Traceback (most recent call last)",
            "\u001b[0;32m<ipython-input-66-5b6fdb49ad7d>\u001b[0m in \u001b[0;36m<module>\u001b[0;34m()\u001b[0m\n\u001b[1;32m      5\u001b[0m     \u001b[0mcsdata\u001b[0m \u001b[0;34m=\u001b[0m \u001b[0mgetData\u001b[0m\u001b[0;34m(\u001b[0m\u001b[0mcsurl\u001b[0m\u001b[0;34m)\u001b[0m\u001b[0;34m\u001b[0m\u001b[0;34m\u001b[0m\u001b[0m\n\u001b[1;32m      6\u001b[0m     \u001b[0mcvdata\u001b[0m\u001b[0;34m.\u001b[0m\u001b[0mappend\u001b[0m\u001b[0;34m(\u001b[0m\u001b[0mcsdata\u001b[0m\u001b[0;34m)\u001b[0m\u001b[0;34m\u001b[0m\u001b[0;34m\u001b[0m\u001b[0m\n\u001b[0;32m----> 7\u001b[0;31m     \u001b[0mnextPageToken\u001b[0m \u001b[0;34m=\u001b[0m \u001b[0;34mf\"&pageToken={csdata.get('nextPageToken', '')}\"\u001b[0m\u001b[0;34m\u001b[0m\u001b[0;34m\u001b[0m\u001b[0m\n\u001b[0m\u001b[1;32m      8\u001b[0m     \u001b[0;32mif\u001b[0m \u001b[0;32mnot\u001b[0m \u001b[0mnextPageToken\u001b[0m\u001b[0;34m:\u001b[0m\u001b[0;34m\u001b[0m\u001b[0;34m\u001b[0m\u001b[0m\n\u001b[1;32m      9\u001b[0m         \u001b[0;32mbreak\u001b[0m\u001b[0;34m\u001b[0m\u001b[0;34m\u001b[0m\u001b[0m\n",
            "\u001b[0;31mAttributeError\u001b[0m: 'NoneType' object has no attribute 'get'"
          ]
        }
      ]
    },
    {
      "cell_type": "code",
      "metadata": {
        "id": "UMdrNbWn0-cB",
        "colab_type": "code",
        "colab": {
          "base_uri": "https://localhost:8080/",
          "height": 238
        },
        "outputId": "f3a05163-f06e-470c-e79f-cc81d694a5b3"
      },
      "source": [
        "videoIds=[]\n",
        "playlistIds=[]\n",
        "for v in cvdata:\n",
        "    video = v['items']\n",
        "    if video['id'].get('videoId',''):\n",
        "        videoIds.append(video['id'].get('videoId',''))\n",
        "    elif video['id'].get('playlistId',''):\n",
        "        playlistIds.append(video['id'].get('playlistId',''))\n",
        "print(\"playlistIds :\",len(playlistIds))\n",
        "print(\"videoIds :\", len(videoIds))"
      ],
      "execution_count": null,
      "outputs": [
        {
          "output_type": "execute_result",
          "data": {
            "text/plain": [
              "['PLN99XDk2SYr5zUoK1Ie8hBwT8nolAND8_',\n",
              " 'PLN99XDk2SYr5ybr4HjH7EEyJRlwCwQtaj',\n",
              " 'PLN99XDk2SYr7ByF11pSu8Hqxbx066h44H',\n",
              " 'PLN99XDk2SYr4Vux2b7g04_yKXxpYq6JXp',\n",
              " 'PLN99XDk2SYr4Yx4lJCSCCiMdwiD-bO7z1',\n",
              " 'PLN99XDk2SYr5CRS7c1hk62yEultl8KaYn',\n",
              " 'PLN99XDk2SYr7wPIfqNrgwbWNBvwYvohWU',\n",
              " 'PLN99XDk2SYr7ff38RClKJQy0478Z3RqdP',\n",
              " 'PLN99XDk2SYr4qLc5beFxiMwpdtIptW5li',\n",
              " 'PLN99XDk2SYr60cKz_JpegpftOTRzfFNFt',\n",
              " 'PLN99XDk2SYr4NATZeMxshFcg8JRn1-h1S',\n",
              " 'PLN99XDk2SYr4EqI6foftUGsztysm1HfV1',\n",
              " 'PLN99XDk2SYr5fOd87hQryXZ_DP5ndK-8Y']"
            ]
          },
          "metadata": {
            "tags": []
          },
          "execution_count": 42
        }
      ]
    },
    {
      "cell_type": "code",
      "metadata": {
        "id": "VbPJflQLsUH6",
        "colab_type": "code",
        "colab": {}
      },
      "source": [
        "videoData = []\n",
        "for id in videoIds:\n",
        "    vurl = f\"https://www.googleapis.com/youtube/v3/videos?part=id&part=snippet&part=statistics&part=contentDetails&id={id}&key={api_key}\"\n",
        "    vdata = getData(vurl)\n",
        "    videoData.append(vdata)"
      ],
      "execution_count": null,
      "outputs": []
    },
    {
      "cell_type": "code",
      "metadata": {
        "id": "mhLn_NI74cQh",
        "colab_type": "code",
        "colab": {}
      },
      "source": [
        ""
      ],
      "execution_count": null,
      "outputs": []
    },
    {
      "cell_type": "code",
      "metadata": {
        "id": "kGGojF6jJPbo",
        "colab_type": "code",
        "colab": {}
      },
      "source": [
        "output = []\n",
        "for v in videoData:\n",
        "    video = v['items']\n",
        "        output.append(\n",
        "            {   \n",
        "                \"channelId\" : video.get('snippet',dict()).get('channelId',''),\n",
        "                \"channelTitle\" : video.get('snippet',dict()).get('channelTitle',''),\n",
        "                \"videoId\" : video.get('id',''),\n",
        "                \"videoUrl\" : f\"https://www.youtube.com/watch?v={video.get('id','')}\",\n",
        "                \"title\" : video.get('snippet',dict()).get('localized',dict()).get('title',''),\n",
        "                \"description\" : video.get('snippet',dict()).get('description',''),\n",
        "                \"publishedAt\" : video.get('snippet',dict()).get('publishedAt',''),\n",
        "                \"duration\" : video.get('contentDetails',dict()).get('duration',''),\n",
        "                \"viewCount\" : video.get('statistics',dict()).get('viewCount',''),\n",
        "                \"likeCount\" : video.get('statistics',dict()).get('likeCount',''),\n",
        "                \"dislikeCount\" : video.get('statistics',dict()).get('dislikeCount',''),\n",
        "                \"commentCount\" : video.get('statistics',dict()).get('commentCount',''),\n",
        "                \"tags\" : \"\",\n",
        "                \"embedvideo\" : f\"\"\"<iframe width=\"1440\" height=\"762\" src=\"https://www.youtube-nocookie.com/embed/{video.get('id','')}\" frameborder=\"0\" allow=\"autoplay; encrypted-media\" allowfullscreen></iframe>\"\"\"\n",
        "            }\n",
        "        )"
      ],
      "execution_count": null,
      "outputs": []
    },
    {
      "cell_type": "code",
      "metadata": {
        "id": "HXzQp5Rp4eev",
        "colab_type": "code",
        "colab": {}
      },
      "source": [
        "df = pd.DataFrame(output)\n",
        "df.to_csv(\"videos.csv\", index=False, header=output[0].keys())"
      ],
      "execution_count": null,
      "outputs": []
    }
  ],
  "metadata": {
    "colab": {
      "name": "Untitled4.ipynb",
      "provenance": [],
      "collapsed_sections": []
    },
    "kernelspec": {
      "name": "python3",
      "display_name": "Python 3"
    }
  },
  "nbformat": 4,
  "nbformat_minor": 0
}
